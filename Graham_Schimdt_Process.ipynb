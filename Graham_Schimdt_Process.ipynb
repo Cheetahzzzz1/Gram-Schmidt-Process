{
  "nbformat": 4,
  "nbformat_minor": 0,
  "metadata": {
    "colab": {
      "provenance": [],
      "authorship_tag": "ABX9TyMlYtNHg3MWP4tmXdUTZkk+"
    },
    "kernelspec": {
      "name": "python3",
      "display_name": "Python 3"
    },
    "language_info": {
      "name": "python"
    }
  },
  "cells": [
    {
      "cell_type": "code",
      "execution_count": 1,
      "metadata": {
        "colab": {
          "base_uri": "https://localhost:8080/"
        },
        "id": "B9nK6-C9yKAl",
        "outputId": "6afb6ea9-a3a2-4ae6-ccb4-f39ef4d6c3ff"
      },
      "outputs": [
        {
          "output_type": "stream",
          "name": "stdout",
          "text": [
            "Dot Product ⟨b1, b2⟩: 3\n"
          ]
        }
      ],
      "source": [
        "import numpy as np\n",
        "\n",
        "# Given vectors\n",
        "b1 = np.array([1, 1, 0])\n",
        "b2 = np.array([1, 2, 0])\n",
        "\n",
        "# Compute dot product\n",
        "dot_product = np.dot(b1, b2)\n",
        "\n",
        "print(\"Dot Product ⟨b1, b2⟩:\", dot_product)"
      ]
    },
    {
      "cell_type": "code",
      "source": [
        "import numpy as np\n",
        "from scipy.linalg import qr\n",
        "\n",
        "# Given matrix B (column vectors)\n",
        "B = np.array([[1, 1, 0], [1, 2, 0], [3, 2, 1]]).T\n",
        "\n",
        "# Apply Gram-Schmidt process using QR decomposition\n",
        "Q, R = qr(B)\n",
        "\n",
        "print(\"Orthonormal Basis (Gram-Schmidt):\")\n",
        "print(Q)"
      ],
      "metadata": {
        "colab": {
          "base_uri": "https://localhost:8080/"
        },
        "id": "0sVgQarqyTRJ",
        "outputId": "201d5d05-67cf-483a-8002-81ba7a31f814"
      },
      "execution_count": 2,
      "outputs": [
        {
          "output_type": "stream",
          "name": "stdout",
          "text": [
            "Orthonormal Basis (Gram-Schmidt):\n",
            "[[-0.70710678 -0.70710678  0.        ]\n",
            " [-0.70710678  0.70710678  0.        ]\n",
            " [-0.          0.          1.        ]]\n"
          ]
        }
      ]
    },
    {
      "cell_type": "code",
      "source": [
        "import numpy as np\n",
        "\n",
        "# Given matrix A\n",
        "A = np.array([[1, 2, 4], [3, 5, 7], [4, 6, 6]])\n",
        "\n",
        "# Compute rank\n",
        "rank_A = np.linalg.matrix_rank(A)\n",
        "\n",
        "# Check if A is invertible\n",
        "is_invertible = rank_A == 3\n",
        "\n",
        "print(\"Rank of A:\", rank_A)\n",
        "print(\"Is A Invertible?\", is_invertible)"
      ],
      "metadata": {
        "colab": {
          "base_uri": "https://localhost:8080/"
        },
        "id": "2HF35jsqyTJW",
        "outputId": "f2cf5524-8d1b-4852-d7b5-a2b33320cdcc"
      },
      "execution_count": 3,
      "outputs": [
        {
          "output_type": "stream",
          "name": "stdout",
          "text": [
            "Rank of A: 2\n",
            "Is A Invertible? False\n"
          ]
        }
      ]
    },
    {
      "cell_type": "code",
      "source": [
        "from scipy.linalg import null_space\n",
        "\n",
        "# Compute null space\n",
        "null_A = null_space(A)\n",
        "\n",
        "print(\"Null Space of A:\")\n",
        "print(null_A)"
      ],
      "metadata": {
        "colab": {
          "base_uri": "https://localhost:8080/"
        },
        "id": "iCsm0QZ-yTAw",
        "outputId": "7fe489c8-0834-470d-f505-d997e37a51fe"
      },
      "execution_count": 4,
      "outputs": [
        {
          "output_type": "stream",
          "name": "stdout",
          "text": [
            "Null Space of A:\n",
            "[[-0.76200076]\n",
            " [ 0.63500064]\n",
            " [-0.12700013]]\n"
          ]
        }
      ]
    },
    {
      "cell_type": "code",
      "source": [
        "import numpy as np\n",
        "\n",
        "# Given basis vectors\n",
        "b1 = np.array([np.sqrt(3)/2, 1/2])\n",
        "b2 = np.array([-1/2, np.sqrt(3)/2])\n",
        "\n",
        "# Construct transformation matrix P\n",
        "P = np.column_stack((b1, b2))\n",
        "\n",
        "print(\"Transformation Matrix P:\")\n",
        "print(P)"
      ],
      "metadata": {
        "colab": {
          "base_uri": "https://localhost:8080/"
        },
        "id": "HGWENEpqyW02",
        "outputId": "237198b5-4980-444f-8903-f53bb93b3aa1"
      },
      "execution_count": 5,
      "outputs": [
        {
          "output_type": "stream",
          "name": "stdout",
          "text": [
            "Transformation Matrix P:\n",
            "[[ 0.8660254 -0.5      ]\n",
            " [ 0.5        0.8660254]]\n"
          ]
        }
      ]
    },
    {
      "cell_type": "code",
      "source": [
        "# Given matrix B\n",
        "B_matrix = np.array([[2.25, -0.433], [-0.433, 2.75]])\n",
        "\n",
        "# Compute A such that B = P^(-1) A P\n",
        "A_similar = np.linalg.inv(P) @ B_matrix @ P\n",
        "\n",
        "print(\"Similar Matrix A:\")\n",
        "print(A_similar)"
      ],
      "metadata": {
        "colab": {
          "base_uri": "https://localhost:8080/"
        },
        "id": "YezqPhAPyWv9",
        "outputId": "26dcdfc0-486c-4280-eb18-aa71397b4565"
      },
      "execution_count": 6,
      "outputs": [
        {
          "output_type": "stream",
          "name": "stdout",
          "text": [
            "Similar Matrix A:\n",
            "[[2.00001100e+00 6.35094611e-06]\n",
            " [6.35094611e-06 2.99998900e+00]]\n"
          ]
        }
      ]
    },
    {
      "cell_type": "code",
      "source": [
        "from scipy.linalg import eig\n",
        "\n",
        "# Compute eigenvalues and eigenvectors of B\n",
        "eigenvalues, eigenvectors = eig(B_matrix)\n",
        "\n",
        "print(\"Eigenvalues of B:\")\n",
        "print(eigenvalues)\n",
        "print(\"Eigenvectors of B:\")\n",
        "print(eigenvectors)"
      ],
      "metadata": {
        "colab": {
          "base_uri": "https://localhost:8080/"
        },
        "id": "96nUsdWeyWre",
        "outputId": "1b6bcdff-4e33-4b80-ec81-e656ab6cbe31"
      },
      "execution_count": 7,
      "outputs": [
        {
          "output_type": "stream",
          "name": "stdout",
          "text": [
            "Eigenvalues of B:\n",
            "[2.000011+0.j 2.999989+0.j]\n",
            "Eigenvectors of B:\n",
            "[[-0.86602858  0.4999945 ]\n",
            " [-0.4999945  -0.86602858]]\n"
          ]
        }
      ]
    },
    {
      "cell_type": "code",
      "source": [
        "from scipy.linalg import det\n",
        "\n",
        "# Compute determinant of B\n",
        "det_B = det(B_matrix)\n",
        "\n",
        "# Compute product of eigenvalues\n",
        "product_eigenvalues = np.prod(eigenvalues)\n",
        "\n",
        "print(\"Determinant of B:\", det_B)\n",
        "print(\"Product of Eigenvalues:\", product_eigenvalues)"
      ],
      "metadata": {
        "colab": {
          "base_uri": "https://localhost:8080/"
        },
        "id": "xS5LgrVJylJ_",
        "outputId": "6e98bd54-3d80-43db-e64c-2c943b04bae6"
      },
      "execution_count": 8,
      "outputs": [
        {
          "output_type": "stream",
          "name": "stdout",
          "text": [
            "Determinant of B: 6.000011\n",
            "Product of Eigenvalues: (6.000011+0j)\n"
          ]
        }
      ]
    }
  ]
}